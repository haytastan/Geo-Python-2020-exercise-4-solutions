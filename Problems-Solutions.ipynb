{
 "cells": [
  {
   "cell_type": "code",
   "execution_count": 23,
   "metadata": {},
   "outputs": [
    {
     "name": "stdout",
     "output_type": "stream",
     "text": [
      "48 degrees Fahrenheit in Celsius is 8.89\n",
      "71 degrees Fahrenheit in Celsius is 21.67\n"
     ]
    }
   ],
   "source": [
    "# 1. What is 48° Fahrenheit in Celsius? \n",
    "print('48 degrees Fahrenheit in Celsius is {0:.2f}'.format(fahr_to_celsius(48)))\n",
    "\n",
    "# 2. What about 71° Fahrenheit in Celsius?\n",
    "print('71 degrees Fahrenheit in Celsius is {0:.2f}'.format(fahr_to_celsius(71)))"
   ]
  },
  {
   "cell_type": "code",
   "execution_count": 24,
   "metadata": {},
   "outputs": [
    {
     "ename": "SyntaxError",
     "evalue": "invalid syntax (Temp/ipykernel_5644/2555406831.py, line 13)",
     "output_type": "error",
     "traceback": [
      "\u001b[1;36m  File \u001b[1;32m\"C:\\Users\\hayati.tastan\\AppData\\Local\\Temp/ipykernel_5644/2555406831.py\"\u001b[1;36m, line \u001b[1;32m13\u001b[0m\n\u001b[1;33m    class= 0\u001b[0m\n\u001b[1;37m         ^\u001b[0m\n\u001b[1;31mSyntaxError\u001b[0m\u001b[1;31m:\u001b[0m invalid syntax\n"
     ]
    }
   ],
   "source": [
    "from nose.tools import ok_, assert_equal\n",
    "import inspect\n",
    "\n",
    "def fahr_to_celsius(temp_fahrenheit):\n",
    "    \n",
    "    return (temp_fahrenheit - 32) * (5/9)\n",
    "\n",
    "\n",
    "\n",
    "def temp_classifier(temp_celsius):\n",
    "    \n",
    "    if (temp_celsius < -2):\n",
    "        class= 0\n",
    "    elif (temp_celsius <= -2 or i < 2):\n",
    "        class= 1\n",
    "    elif (temp_celsius <= 2 or temp_celsius < 15):\n",
    "        class= 2\n",
    "    else:\n",
    "        class= 3\n",
    "       \n",
    "    return (class)\n",
    "\n",
    "# 1. What is the class value for 16.5 degrees (Celsius)?\n",
    "print('16.5 degrees (Celsius) is in class {0:.2f}'.formattemp_classifier(16.5)))\n",
    "\n",
    "# 2. What is the class value for +2 degrees (Celsius)?\n",
    "print('+2 degrees (Celsius) is in class {0:.2f}'.formattemp_classifier(2)))"
   ]
  },
  {
   "cell_type": "code",
   "execution_count": 25,
   "metadata": {},
   "outputs": [
    {
     "ename": "SyntaxError",
     "evalue": "invalid syntax (Temp/ipykernel_5644/1801301308.py, line 7)",
     "output_type": "error",
     "traceback": [
      "\u001b[1;36m  File \u001b[1;32m\"C:\\Users\\hayati.tastan\\AppData\\Local\\Temp/ipykernel_5644/1801301308.py\"\u001b[1;36m, line \u001b[1;32m7\u001b[0m\n\u001b[1;33m    class= 0\u001b[0m\n\u001b[1;37m         ^\u001b[0m\n\u001b[1;31mSyntaxError\u001b[0m\u001b[1;31m:\u001b[0m invalid syntax\n"
     ]
    }
   ],
   "source": [
    "from nose.tools import ok_, assert_equal\n",
    "import inspect\n",
    "\n",
    "def temp_classifier(temp_celsius):\n",
    "    \n",
    "    if (temp_celsius < -2):\n",
    "        class= 0\n",
    "    elif (temp_celsius <= -2 or i < 2):\n",
    "        class= 1\n",
    "    elif (temp_celsius <= 2 or temp_celsius < 15):\n",
    "        class= 2\n",
    "    else:\n",
    "        class= 3\n",
    "       \n",
    "    return (class)\n",
    "\n",
    "# 1. What is the class value for 16.5 degrees (Celsius)?\n",
    "print('16.5 degrees (Celsius) is in class {0:.2f}'.formattemp_classifier(16.5)))\n",
    "\n",
    "# 2. What is the class value for +2 degrees (Celsius)?\n",
    "print('+2 degrees (Celsius) is in class {0:.2f}'.formattemp_classifier(2)))"
   ]
  },
  {
   "cell_type": "code",
   "execution_count": 26,
   "metadata": {},
   "outputs": [
    {
     "ename": "SyntaxError",
     "evalue": "invalid syntax (Temp/ipykernel_5644/2065680008.py, line 7)",
     "output_type": "error",
     "traceback": [
      "\u001b[1;36m  File \u001b[1;32m\"C:\\Users\\hayati.tastan\\AppData\\Local\\Temp/ipykernel_5644/2065680008.py\"\u001b[1;36m, line \u001b[1;32m7\u001b[0m\n\u001b[1;33m    class = 0\u001b[0m\n\u001b[1;37m          ^\u001b[0m\n\u001b[1;31mSyntaxError\u001b[0m\u001b[1;31m:\u001b[0m invalid syntax\n"
     ]
    }
   ],
   "source": [
    "from nose.tools import ok_, assert_equal\n",
    "import inspect\n",
    "\n",
    "def temp_classifier(temp_celsius):\n",
    "    \n",
    "    if (temp_celsius < -2):\n",
    "        class = 0\n",
    "    elif (temp_celsius <= -2 or i < 2):\n",
    "        class = 1\n",
    "    elif (temp_celsius <= 2 or temp_celsius < 15):\n",
    "        class = 2\n",
    "    else:\n",
    "        class = 3\n",
    "       \n",
    "    return (class)\n",
    "\n",
    "# 1. What is the class value for 16.5 degrees (Celsius)?\n",
    "print('16.5 degrees (Celsius) is in class {0:.2f}'.formattemp_classifier(16.5)))\n",
    "\n",
    "# 2. What is the class value for +2 degrees (Celsius)?\n",
    "print('+2 degrees (Celsius) is in class {0:.2f}'.formattemp_classifier(2)))"
   ]
  },
  {
   "cell_type": "code",
   "execution_count": 27,
   "metadata": {},
   "outputs": [
    {
     "ename": "SyntaxError",
     "evalue": "invalid syntax (Temp/ipykernel_5644/3565460567.py, line 4)",
     "output_type": "error",
     "traceback": [
      "\u001b[1;36m  File \u001b[1;32m\"C:\\Users\\hayati.tastan\\AppData\\Local\\Temp/ipykernel_5644/3565460567.py\"\u001b[1;36m, line \u001b[1;32m4\u001b[0m\n\u001b[1;33m    class = 0\u001b[0m\n\u001b[1;37m          ^\u001b[0m\n\u001b[1;31mSyntaxError\u001b[0m\u001b[1;31m:\u001b[0m invalid syntax\n"
     ]
    }
   ],
   "source": [
    "def temp_classifier(temp_celsius):\n",
    "    \n",
    "    if (temp_celsius < -2):\n",
    "        class = 0\n",
    "    elif (temp_celsius <= -2 or i < 2):\n",
    "        class = 1\n",
    "    elif (temp_celsius <= 2 or temp_celsius < 15):\n",
    "        class = 2\n",
    "    else:\n",
    "        class = 3\n",
    "       \n",
    "    return (class)"
   ]
  },
  {
   "cell_type": "code",
   "execution_count": 28,
   "metadata": {},
   "outputs": [],
   "source": [
    "\n",
    "def temp_classifier(temp_celsius):\n",
    "    \n",
    "    if (temp_celsius < -2):\n",
    "        c = 0\n",
    "    elif (temp_celsius <= -2 or i < 2):\n",
    "        c = 1\n",
    "    elif (temp_celsius <= 2 or temp_celsius < 15):\n",
    "        c = 2\n",
    "    else:\n",
    "        c = 3\n",
    "       \n",
    "    return (c)"
   ]
  },
  {
   "cell_type": "code",
   "execution_count": 29,
   "metadata": {},
   "outputs": [
    {
     "ename": "SyntaxError",
     "evalue": "unmatched ')' (Temp/ipykernel_5644/4215778956.py, line 18)",
     "output_type": "error",
     "traceback": [
      "\u001b[1;36m  File \u001b[1;32m\"C:\\Users\\hayati.tastan\\AppData\\Local\\Temp/ipykernel_5644/4215778956.py\"\u001b[1;36m, line \u001b[1;32m18\u001b[0m\n\u001b[1;33m    print('16.5 degrees (Celsius) is in class {0:.2f}'.formattemp_classifier(16.5)))\u001b[0m\n\u001b[1;37m                                                                                   ^\u001b[0m\n\u001b[1;31mSyntaxError\u001b[0m\u001b[1;31m:\u001b[0m unmatched ')'\n"
     ]
    }
   ],
   "source": [
    "\n",
    "from nose.tools import ok_, assert_equal\n",
    "import inspect\n",
    "\n",
    "def temp_classifier(temp_celsius):\n",
    "    \n",
    "    if (temp_celsius < -2):\n",
    "        category = 0\n",
    "    elif (temp_celsius <= -2 or i < 2):\n",
    "        category = 1\n",
    "    elif (temp_celsius <= 2 or temp_celsius < 15):\n",
    "        category = 2\n",
    "    else:\n",
    "        category = 3\n",
    "       \n",
    "    return (c)\n",
    "\n",
    "# 1. What is the class value for 16.5 degrees (Celsius)?\n",
    "print('16.5 degrees (Celsius) is in class {0:.2f}'.formattemp_classifier(16.5)))\n",
    "\n",
    "# 2. What is the class value for +2 degrees (Celsius)?\n",
    "print('+2 degrees (Celsius) is in class {0:.2f}'.formattemp_classifier(2)))"
   ]
  },
  {
   "cell_type": "code",
   "execution_count": 30,
   "metadata": {},
   "outputs": [
    {
     "ename": "AttributeError",
     "evalue": "'str' object has no attribute 'formattemp_classifier'",
     "output_type": "error",
     "traceback": [
      "\u001b[1;31m---------------------------------------------------------------------------\u001b[0m",
      "\u001b[1;31mAttributeError\u001b[0m                            Traceback (most recent call last)",
      "\u001b[1;32m~\\AppData\\Local\\Temp/ipykernel_5644/3086074531.py\u001b[0m in \u001b[0;36m<module>\u001b[1;34m\u001b[0m\n\u001b[0;32m      1\u001b[0m \u001b[1;31m# 1. What is the class value for 16.5 degrees (Celsius)?\u001b[0m\u001b[1;33m\u001b[0m\u001b[1;33m\u001b[0m\u001b[1;33m\u001b[0m\u001b[0m\n\u001b[1;32m----> 2\u001b[1;33m \u001b[0mprint\u001b[0m\u001b[1;33m(\u001b[0m\u001b[1;34m'16.5 degrees (Celsius) is in class {0:.2f}'\u001b[0m\u001b[1;33m.\u001b[0m\u001b[0mformattemp_classifier\u001b[0m\u001b[1;33m(\u001b[0m\u001b[1;36m16.5\u001b[0m\u001b[1;33m)\u001b[0m\u001b[1;33m)\u001b[0m\u001b[1;33m\u001b[0m\u001b[1;33m\u001b[0m\u001b[0m\n\u001b[0m\u001b[0;32m      3\u001b[0m \u001b[1;33m\u001b[0m\u001b[0m\n\u001b[0;32m      4\u001b[0m \u001b[1;31m# 2. What is the class value for +2 degrees (Celsius)?\u001b[0m\u001b[1;33m\u001b[0m\u001b[1;33m\u001b[0m\u001b[1;33m\u001b[0m\u001b[0m\n\u001b[0;32m      5\u001b[0m \u001b[0mprint\u001b[0m\u001b[1;33m(\u001b[0m\u001b[1;34m'+2 degrees (Celsius) is in class {0:.2f}'\u001b[0m\u001b[1;33m.\u001b[0m\u001b[0mformattemp_classifier\u001b[0m\u001b[1;33m(\u001b[0m\u001b[1;36m2\u001b[0m\u001b[1;33m)\u001b[0m\u001b[1;33m)\u001b[0m\u001b[1;33m\u001b[0m\u001b[1;33m\u001b[0m\u001b[0m\n",
      "\u001b[1;31mAttributeError\u001b[0m: 'str' object has no attribute 'formattemp_classifier'"
     ]
    }
   ],
   "source": [
    "# 1. What is the class value for 16.5 degrees (Celsius)?\n",
    "print('16.5 degrees (Celsius) is in class {0:.2f}'.formattemp_classifier(16.5))\n",
    "\n",
    "# 2. What is the class value for +2 degrees (Celsius)?\n",
    "print('+2 degrees (Celsius) is in class {0:.2f}'.formattemp_classifier(2))"
   ]
  },
  {
   "cell_type": "code",
   "execution_count": 31,
   "metadata": {},
   "outputs": [
    {
     "ename": "NameError",
     "evalue": "name 'i' is not defined",
     "output_type": "error",
     "traceback": [
      "\u001b[1;31m---------------------------------------------------------------------------\u001b[0m",
      "\u001b[1;31mNameError\u001b[0m                                 Traceback (most recent call last)",
      "\u001b[1;32m~\\AppData\\Local\\Temp/ipykernel_5644/1056975340.py\u001b[0m in \u001b[0;36m<module>\u001b[1;34m\u001b[0m\n\u001b[0;32m      1\u001b[0m \u001b[1;31m# 1. What is the class value for 16.5 degrees (Celsius)?\u001b[0m\u001b[1;33m\u001b[0m\u001b[1;33m\u001b[0m\u001b[1;33m\u001b[0m\u001b[0m\n\u001b[1;32m----> 2\u001b[1;33m \u001b[0mprint\u001b[0m\u001b[1;33m(\u001b[0m\u001b[1;34m'16.5 degrees (Celsius) is in class {0:.2f}'\u001b[0m\u001b[1;33m.\u001b[0m\u001b[0mformat\u001b[0m\u001b[1;33m(\u001b[0m\u001b[0mtemp_classifier\u001b[0m\u001b[1;33m(\u001b[0m\u001b[1;36m16.5\u001b[0m\u001b[1;33m)\u001b[0m\u001b[1;33m)\u001b[0m\u001b[1;33m)\u001b[0m\u001b[1;33m\u001b[0m\u001b[1;33m\u001b[0m\u001b[0m\n\u001b[0m\u001b[0;32m      3\u001b[0m \u001b[1;33m\u001b[0m\u001b[0m\n\u001b[0;32m      4\u001b[0m \u001b[1;31m# 2. What is the class value for +2 degrees (Celsius)?\u001b[0m\u001b[1;33m\u001b[0m\u001b[1;33m\u001b[0m\u001b[1;33m\u001b[0m\u001b[0m\n\u001b[0;32m      5\u001b[0m \u001b[0mprint\u001b[0m\u001b[1;33m(\u001b[0m\u001b[1;34m'+2 degrees (Celsius) is in class {0:.2f}'\u001b[0m\u001b[1;33m.\u001b[0m\u001b[0mformat\u001b[0m\u001b[1;33m(\u001b[0m\u001b[0mtemp_classifier\u001b[0m\u001b[1;33m(\u001b[0m\u001b[1;36m2\u001b[0m\u001b[1;33m)\u001b[0m\u001b[1;33m)\u001b[0m\u001b[1;33m)\u001b[0m\u001b[1;33m\u001b[0m\u001b[1;33m\u001b[0m\u001b[0m\n",
      "\u001b[1;32m~\\AppData\\Local\\Temp/ipykernel_5644/984480727.py\u001b[0m in \u001b[0;36mtemp_classifier\u001b[1;34m(temp_celsius)\u001b[0m\n\u001b[0;32m      3\u001b[0m     \u001b[1;32mif\u001b[0m \u001b[1;33m(\u001b[0m\u001b[0mtemp_celsius\u001b[0m \u001b[1;33m<\u001b[0m \u001b[1;33m-\u001b[0m\u001b[1;36m2\u001b[0m\u001b[1;33m)\u001b[0m\u001b[1;33m:\u001b[0m\u001b[1;33m\u001b[0m\u001b[1;33m\u001b[0m\u001b[0m\n\u001b[0;32m      4\u001b[0m         \u001b[0mc\u001b[0m \u001b[1;33m=\u001b[0m \u001b[1;36m0\u001b[0m\u001b[1;33m\u001b[0m\u001b[1;33m\u001b[0m\u001b[0m\n\u001b[1;32m----> 5\u001b[1;33m     \u001b[1;32melif\u001b[0m \u001b[1;33m(\u001b[0m\u001b[0mtemp_celsius\u001b[0m \u001b[1;33m<=\u001b[0m \u001b[1;33m-\u001b[0m\u001b[1;36m2\u001b[0m \u001b[1;32mor\u001b[0m \u001b[0mi\u001b[0m \u001b[1;33m<\u001b[0m \u001b[1;36m2\u001b[0m\u001b[1;33m)\u001b[0m\u001b[1;33m:\u001b[0m\u001b[1;33m\u001b[0m\u001b[1;33m\u001b[0m\u001b[0m\n\u001b[0m\u001b[0;32m      6\u001b[0m         \u001b[0mc\u001b[0m \u001b[1;33m=\u001b[0m \u001b[1;36m1\u001b[0m\u001b[1;33m\u001b[0m\u001b[1;33m\u001b[0m\u001b[0m\n\u001b[0;32m      7\u001b[0m     \u001b[1;32melif\u001b[0m \u001b[1;33m(\u001b[0m\u001b[0mtemp_celsius\u001b[0m \u001b[1;33m<=\u001b[0m \u001b[1;36m2\u001b[0m \u001b[1;32mor\u001b[0m \u001b[0mtemp_celsius\u001b[0m \u001b[1;33m<\u001b[0m \u001b[1;36m15\u001b[0m\u001b[1;33m)\u001b[0m\u001b[1;33m:\u001b[0m\u001b[1;33m\u001b[0m\u001b[1;33m\u001b[0m\u001b[0m\n",
      "\u001b[1;31mNameError\u001b[0m: name 'i' is not defined"
     ]
    }
   ],
   "source": [
    "# 1. What is the class value for 16.5 degrees (Celsius)?\n",
    "print('16.5 degrees (Celsius) is in class {0:.2f}'.format(temp_classifier(16.5)))\n",
    "\n",
    "# 2. What is the class value for +2 degrees (Celsius)?\n",
    "print('+2 degrees (Celsius) is in class {0:.2f}'.format(temp_classifier(2)))"
   ]
  },
  {
   "cell_type": "code",
   "execution_count": 32,
   "metadata": {},
   "outputs": [
    {
     "ename": "NameError",
     "evalue": "name 'c' is not defined",
     "output_type": "error",
     "traceback": [
      "\u001b[1;31m---------------------------------------------------------------------------\u001b[0m",
      "\u001b[1;31mNameError\u001b[0m                                 Traceback (most recent call last)",
      "\u001b[1;32m~\\AppData\\Local\\Temp/ipykernel_5644/3825450463.py\u001b[0m in \u001b[0;36m<module>\u001b[1;34m\u001b[0m\n\u001b[0;32m     13\u001b[0m \u001b[1;33m\u001b[0m\u001b[0m\n\u001b[0;32m     14\u001b[0m \u001b[1;31m# 1. What is the class value for 16.5 degrees (Celsius)?\u001b[0m\u001b[1;33m\u001b[0m\u001b[1;33m\u001b[0m\u001b[1;33m\u001b[0m\u001b[0m\n\u001b[1;32m---> 15\u001b[1;33m \u001b[0mprint\u001b[0m\u001b[1;33m(\u001b[0m\u001b[1;34m'16.5 degrees (Celsius) is in class {0:.2f}'\u001b[0m\u001b[1;33m.\u001b[0m\u001b[0mformat\u001b[0m\u001b[1;33m(\u001b[0m\u001b[0mtemp_classifier\u001b[0m\u001b[1;33m(\u001b[0m\u001b[1;36m16.5\u001b[0m\u001b[1;33m)\u001b[0m\u001b[1;33m)\u001b[0m\u001b[1;33m)\u001b[0m\u001b[1;33m\u001b[0m\u001b[1;33m\u001b[0m\u001b[0m\n\u001b[0m\u001b[0;32m     16\u001b[0m \u001b[1;33m\u001b[0m\u001b[0m\n\u001b[0;32m     17\u001b[0m \u001b[1;31m# 2. What is the class value for +2 degrees (Celsius)?\u001b[0m\u001b[1;33m\u001b[0m\u001b[1;33m\u001b[0m\u001b[1;33m\u001b[0m\u001b[0m\n",
      "\u001b[1;32m~\\AppData\\Local\\Temp/ipykernel_5644/3825450463.py\u001b[0m in \u001b[0;36mtemp_classifier\u001b[1;34m(temp_celsius)\u001b[0m\n\u001b[0;32m     10\u001b[0m         \u001b[0mcategory\u001b[0m \u001b[1;33m=\u001b[0m \u001b[1;36m3\u001b[0m\u001b[1;33m\u001b[0m\u001b[1;33m\u001b[0m\u001b[0m\n\u001b[0;32m     11\u001b[0m \u001b[1;33m\u001b[0m\u001b[0m\n\u001b[1;32m---> 12\u001b[1;33m     \u001b[1;32mreturn\u001b[0m \u001b[1;33m(\u001b[0m\u001b[0mc\u001b[0m\u001b[1;33m)\u001b[0m\u001b[1;33m\u001b[0m\u001b[1;33m\u001b[0m\u001b[0m\n\u001b[0m\u001b[0;32m     13\u001b[0m \u001b[1;33m\u001b[0m\u001b[0m\n\u001b[0;32m     14\u001b[0m \u001b[1;31m# 1. What is the class value for 16.5 degrees (Celsius)?\u001b[0m\u001b[1;33m\u001b[0m\u001b[1;33m\u001b[0m\u001b[1;33m\u001b[0m\u001b[0m\n",
      "\u001b[1;31mNameError\u001b[0m: name 'c' is not defined"
     ]
    }
   ],
   "source": [
    "\n",
    "def temp_classifier(temp_celsius):\n",
    "    \n",
    "    if (temp_celsius < -2):\n",
    "        category = 0\n",
    "    elif (temp_celsius <= -2 or temp_celsius < 2):\n",
    "        category = 1\n",
    "    elif (temp_celsius <= 2 or temp_celsius < 15):\n",
    "        category = 2\n",
    "    else:\n",
    "        category = 3\n",
    "       \n",
    "    return (c)\n",
    "\n",
    "# 1. What is the class value for 16.5 degrees (Celsius)?\n",
    "print('16.5 degrees (Celsius) is in class {0:.2f}'.format(temp_classifier(16.5)))\n",
    "\n",
    "# 2. What is the class value for +2 degrees (Celsius)?\n",
    "print('+2 degrees (Celsius) is in class {0:.2f}'.format(temp_classifier(2)))"
   ]
  },
  {
   "cell_type": "code",
   "execution_count": 33,
   "metadata": {},
   "outputs": [
    {
     "name": "stdout",
     "output_type": "stream",
     "text": [
      "16.5 degrees (Celsius) is in class 3.00\n",
      "+2 degrees (Celsius) is in class 2.00\n"
     ]
    }
   ],
   "source": [
    "from nose.tools import ok_, assert_equal\n",
    "import inspect\n",
    "\n",
    "def temp_classifier(temp_celsius):\n",
    "    \n",
    "    if (temp_celsius < -2):\n",
    "        category = 0\n",
    "    elif (temp_celsius <= -2 or temp_celsius < 2):\n",
    "        category = 1\n",
    "    elif (temp_celsius <= 2 or temp_celsius < 15):\n",
    "        category = 2\n",
    "    else:\n",
    "        category = 3\n",
    "       \n",
    "    return (category)\n",
    "\n",
    "# 1. What is the class value for 16.5 degrees (Celsius)?\n",
    "print('16.5 degrees (Celsius) is in class {0:.2f}'.format(temp_classifier(16.5)))\n",
    "\n",
    "# 2. What is the class value for +2 degrees (Celsius)?\n",
    "print('+2 degrees (Celsius) is in class {0:.2f}'.format(temp_classifier(2)))"
   ]
  },
  {
   "cell_type": "code",
   "execution_count": 34,
   "metadata": {},
   "outputs": [
    {
     "ename": "AssertionError",
     "evalue": "None",
     "output_type": "error",
     "traceback": [
      "\u001b[1;31m---------------------------------------------------------------------------\u001b[0m",
      "\u001b[1;31mAssertionError\u001b[0m                            Traceback (most recent call last)",
      "\u001b[1;32m~\\AppData\\Local\\Temp/ipykernel_5644/2542079542.py\u001b[0m in \u001b[0;36m<module>\u001b[1;34m\u001b[0m\n\u001b[0;32m     19\u001b[0m \u001b[0mparams\u001b[0m \u001b[1;33m=\u001b[0m \u001b[0mlist\u001b[0m\u001b[1;33m(\u001b[0m\u001b[0minspect\u001b[0m\u001b[1;33m.\u001b[0m\u001b[0msignature\u001b[0m\u001b[1;33m(\u001b[0m\u001b[0mtemp_classifier\u001b[0m\u001b[1;33m)\u001b[0m\u001b[1;33m.\u001b[0m\u001b[0mparameters\u001b[0m\u001b[1;33m.\u001b[0m\u001b[0mkeys\u001b[0m\u001b[1;33m(\u001b[0m\u001b[1;33m)\u001b[0m\u001b[1;33m)\u001b[0m\u001b[1;33m\u001b[0m\u001b[1;33m\u001b[0m\u001b[0m\n\u001b[0;32m     20\u001b[0m \u001b[1;33m\u001b[0m\u001b[0m\n\u001b[1;32m---> 21\u001b[1;33m \u001b[1;32mif\u001b[0m \u001b[0mok_\u001b[0m\u001b[1;33m(\u001b[0m\u001b[0mparams\u001b[0m\u001b[1;33m[\u001b[0m\u001b[1;36m0\u001b[0m\u001b[1;33m]\u001b[0m\u001b[1;33m==\u001b[0m\u001b[1;34m'temp_classifier'\u001b[0m\u001b[1;33m)\u001b[0m \u001b[1;32mand\u001b[0m \u001b[0mok_\u001b[0m\u001b[1;33m(\u001b[0m\u001b[0mlen\u001b[0m\u001b[1;33m(\u001b[0m\u001b[0mparams\u001b[0m\u001b[1;33m)\u001b[0m\u001b[1;33m==\u001b[0m\u001b[1;36m1\u001b[0m\u001b[1;33m)\u001b[0m\u001b[1;33m:\u001b[0m\u001b[1;33m\u001b[0m\u001b[1;33m\u001b[0m\u001b[0m\n\u001b[0m\u001b[0;32m     22\u001b[0m     \u001b[0mprint\u001b[0m\u001b[1;33m(\u001b[0m\u001b[1;34m'The function\\'s parameter name is incorrect and the function has not a single parameter'\u001b[0m\u001b[1;33m)\u001b[0m\u001b[1;33m\u001b[0m\u001b[1;33m\u001b[0m\u001b[0m\n\u001b[0;32m     23\u001b[0m \u001b[1;32melse\u001b[0m\u001b[1;33m:\u001b[0m\u001b[1;33m\u001b[0m\u001b[1;33m\u001b[0m\u001b[0m\n",
      "\u001b[1;32mC:\\programs\\qgis320\\apps\\Python39\\lib\\site-packages\\nose\\tools\\trivial.py\u001b[0m in \u001b[0;36mok_\u001b[1;34m(expr, msg)\u001b[0m\n\u001b[0;32m     20\u001b[0m     \"\"\"\n\u001b[0;32m     21\u001b[0m     \u001b[1;32mif\u001b[0m \u001b[1;32mnot\u001b[0m \u001b[0mexpr\u001b[0m\u001b[1;33m:\u001b[0m\u001b[1;33m\u001b[0m\u001b[1;33m\u001b[0m\u001b[0m\n\u001b[1;32m---> 22\u001b[1;33m         \u001b[1;32mraise\u001b[0m \u001b[0mAssertionError\u001b[0m\u001b[1;33m(\u001b[0m\u001b[0mmsg\u001b[0m\u001b[1;33m)\u001b[0m\u001b[1;33m\u001b[0m\u001b[1;33m\u001b[0m\u001b[0m\n\u001b[0m\u001b[0;32m     23\u001b[0m \u001b[1;33m\u001b[0m\u001b[0m\n\u001b[0;32m     24\u001b[0m \u001b[1;33m\u001b[0m\u001b[0m\n",
      "\u001b[1;31mAssertionError\u001b[0m: None"
     ]
    }
   ],
   "source": [
    "\n",
    "from nose.tools import ok_, assert_equal\n",
    "import inspect\n",
    "\n",
    "def temp_classifier(temp_celsius):\n",
    "    \n",
    "    if (temp_celsius < -2):\n",
    "        category = 0\n",
    "    elif (temp_celsius <= -2 or temp_celsius < 2):\n",
    "        category = 1\n",
    "    elif (temp_celsius <= 2 or temp_celsius < 15):\n",
    "        category = 2\n",
    "    else:\n",
    "        category = 3\n",
    "       \n",
    "    return (category)\n",
    "\n",
    "\n",
    "# Check that the function has a single parameter and the parameter name is correct\n",
    "params = list(inspect.signature(temp_classifier).parameters.keys())\n",
    "\n",
    "if ok_(params[0]=='temp_classifier') and ok_(len(params)==1):\n",
    "    print('The function\\'s parameter name is incorrect and the function has not a single parameter')\n",
    "else:\n",
    "     print('The function\\'s parameter name is correct and the function has a single parameter')\n",
    "\n",
    "\n",
    "# 1. What is the class value for 16.5 degrees (Celsius)?\n",
    "print('16.5 degrees (Celsius) is in class {0:.1f}'.format(temp_classifier(16.5)))\n",
    "\n",
    "# 2. What is the class value for +2 degrees (Celsius)?\n",
    "print('+2 degrees (Celsius) is in class {0:.1f}'.format(temp_classifier(2)))"
   ]
  },
  {
   "cell_type": "code",
   "execution_count": 35,
   "metadata": {},
   "outputs": [
    {
     "ename": "AssertionError",
     "evalue": "None",
     "output_type": "error",
     "traceback": [
      "\u001b[1;31m---------------------------------------------------------------------------\u001b[0m",
      "\u001b[1;31mAssertionError\u001b[0m                            Traceback (most recent call last)",
      "\u001b[1;32m~\\AppData\\Local\\Temp/ipykernel_5644/2898667618.py\u001b[0m in \u001b[0;36m<module>\u001b[1;34m\u001b[0m\n\u001b[0;32m      2\u001b[0m \u001b[0mparams\u001b[0m \u001b[1;33m=\u001b[0m \u001b[0mlist\u001b[0m\u001b[1;33m(\u001b[0m\u001b[0minspect\u001b[0m\u001b[1;33m.\u001b[0m\u001b[0msignature\u001b[0m\u001b[1;33m(\u001b[0m\u001b[0mtemp_classifier\u001b[0m\u001b[1;33m)\u001b[0m\u001b[1;33m.\u001b[0m\u001b[0mparameters\u001b[0m\u001b[1;33m.\u001b[0m\u001b[0mkeys\u001b[0m\u001b[1;33m(\u001b[0m\u001b[1;33m)\u001b[0m\u001b[1;33m)\u001b[0m\u001b[1;33m\u001b[0m\u001b[1;33m\u001b[0m\u001b[0m\n\u001b[0;32m      3\u001b[0m \u001b[1;33m\u001b[0m\u001b[0m\n\u001b[1;32m----> 4\u001b[1;33m \u001b[1;32mif\u001b[0m \u001b[0mok_\u001b[0m\u001b[1;33m(\u001b[0m\u001b[0mparams\u001b[0m\u001b[1;33m[\u001b[0m\u001b[1;36m0\u001b[0m\u001b[1;33m]\u001b[0m\u001b[1;33m==\u001b[0m\u001b[1;34m'temp_classifier'\u001b[0m\u001b[1;33m)\u001b[0m \u001b[1;32mand\u001b[0m \u001b[0mok_\u001b[0m\u001b[1;33m(\u001b[0m\u001b[0mlen\u001b[0m\u001b[1;33m(\u001b[0m\u001b[0mparams\u001b[0m\u001b[1;33m)\u001b[0m\u001b[1;33m==\u001b[0m\u001b[1;36m1\u001b[0m\u001b[1;33m)\u001b[0m\u001b[1;33m:\u001b[0m\u001b[1;33m\u001b[0m\u001b[1;33m\u001b[0m\u001b[0m\n\u001b[0m\u001b[0;32m      5\u001b[0m     \u001b[0mprint\u001b[0m\u001b[1;33m(\u001b[0m\u001b[1;34m'The function\\'s parameter name is incorrect and the function has not a single parameter'\u001b[0m\u001b[1;33m)\u001b[0m\u001b[1;33m\u001b[0m\u001b[1;33m\u001b[0m\u001b[0m\n\u001b[0;32m      6\u001b[0m \u001b[1;32melse\u001b[0m\u001b[1;33m:\u001b[0m\u001b[1;33m\u001b[0m\u001b[1;33m\u001b[0m\u001b[0m\n",
      "\u001b[1;32mC:\\programs\\qgis320\\apps\\Python39\\lib\\site-packages\\nose\\tools\\trivial.py\u001b[0m in \u001b[0;36mok_\u001b[1;34m(expr, msg)\u001b[0m\n\u001b[0;32m     20\u001b[0m     \"\"\"\n\u001b[0;32m     21\u001b[0m     \u001b[1;32mif\u001b[0m \u001b[1;32mnot\u001b[0m \u001b[0mexpr\u001b[0m\u001b[1;33m:\u001b[0m\u001b[1;33m\u001b[0m\u001b[1;33m\u001b[0m\u001b[0m\n\u001b[1;32m---> 22\u001b[1;33m         \u001b[1;32mraise\u001b[0m \u001b[0mAssertionError\u001b[0m\u001b[1;33m(\u001b[0m\u001b[0mmsg\u001b[0m\u001b[1;33m)\u001b[0m\u001b[1;33m\u001b[0m\u001b[1;33m\u001b[0m\u001b[0m\n\u001b[0m\u001b[0;32m     23\u001b[0m \u001b[1;33m\u001b[0m\u001b[0m\n\u001b[0;32m     24\u001b[0m \u001b[1;33m\u001b[0m\u001b[0m\n",
      "\u001b[1;31mAssertionError\u001b[0m: None"
     ]
    }
   ],
   "source": [
    "# Check that the function has a single parameter and the parameter name is correct\n",
    "params = list(inspect.signature(temp_classifier).parameters.keys())\n",
    "\n",
    "if ok_(params[0]=='temp_classifier') and ok_(len(params)==1):\n",
    "    print('The function\\'s parameter name is incorrect and the function has not a single parameter')\n",
    "else:\n",
    "     print('The function\\'s parameter name is correct and the function has a single parameter')"
   ]
  },
  {
   "cell_type": "code",
   "execution_count": 36,
   "metadata": {},
   "outputs": [
    {
     "name": "stdout",
     "output_type": "stream",
     "text": [
      "The function's parameter name is correct and the function has a single parameter\n",
      "16.5 degrees (Celsius) is in class 3.0\n",
      "+2 degrees (Celsius) is in class 2.0\n"
     ]
    }
   ],
   "source": [
    "# Hayati TAŞTAN\n",
    "# 02.09.2021\n",
    "# ===================\n",
    "# SUBJECT: Temperature classifier \n",
    "# PROBLEM: https://github.com/haytastan/Geo-Python-2020-exercise-4-solutions/blob/main/Exercise-4-problem-2.ipynb\n",
    "# SOLUTION: \n",
    "\n",
    "# P.A.: pip install nose.tools\n",
    "\n",
    "from nose.tools import ok_, assert_equal\n",
    "import inspect\n",
    "\n",
    "def temp_classifier(temp_celsius):\n",
    "    \n",
    "    if (temp_celsius < -2):\n",
    "        category = 0\n",
    "    elif (temp_celsius <= -2 or temp_celsius < 2):\n",
    "        category = 1\n",
    "    elif (temp_celsius <= 2 or temp_celsius < 15):\n",
    "        category = 2\n",
    "    else:\n",
    "        category = 3\n",
    "       \n",
    "    return (category)\n",
    "\n",
    "\n",
    "# Check that the function has a single parameter and the parameter name is correct\n",
    "params = list(inspect.signature(temp_classifier).parameters.keys())\n",
    "\n",
    "if ok_(params[0]=='temp_celsius') and ok_(len(params)==1):\n",
    "    print('The function\\'s parameter name is incorrect and the function has not a single parameter')\n",
    "else:\n",
    "     print('The function\\'s parameter name is correct and the function has a single parameter')\n",
    "\n",
    "\n",
    "# 1. What is the class value for 16.5 degrees (Celsius)?\n",
    "print('16.5 degrees (Celsius) is in class {0:.1f}'.format(temp_classifier(16.5)))\n",
    "\n",
    "# 2. What is the class value for +2 degrees (Celsius)?\n",
    "print('+2 degrees (Celsius) is in class {0:.1f}'.format(temp_classifier(2)))\n",
    "\n",
    "\n",
    "\n",
    "\n",
    "        \n",
    "\n"
   ]
  },
  {
   "cell_type": "code",
   "execution_count": 37,
   "metadata": {},
   "outputs": [
    {
     "name": "stdout",
     "output_type": "stream",
     "text": [
      "The function's parameter name is correct and the function has a single parameter\n",
      "16.5 degrees (Celsius) is in class 3.0\n",
      "+2 degrees (Celsius) is in class 2.0\n"
     ]
    }
   ],
   "source": [
    "# Hayati TAŞTAN\n",
    "# 02.09.2021\n",
    "# ===================\n",
    "# SUBJECT: Temperature classifier \n",
    "# PROBLEM: https://github.com/haytastan/Geo-Python-2020-exercise-4-solutions/blob/main/Exercise-4-problem-2.ipynb\n",
    "# SOLUTION: \n",
    "\n",
    "# P.A.: pip install nose.tools\n",
    "\n",
    "from nose.tools import ok_, assert_equal\n",
    "import inspect\n",
    "\n",
    "def temp_classifier(temp_celsius):\n",
    "    \n",
    "    if (temp_celsius < -2):\n",
    "        category = 0\n",
    "    elif (temp_celsius <= -2 or temp_celsius < 2):\n",
    "        category = 1\n",
    "    elif (temp_celsius <= 2 or temp_celsius < 15):\n",
    "        category = 2\n",
    "    else:\n",
    "        category = 3\n",
    "       \n",
    "    return (category)\n",
    "\n",
    "\n",
    "# Check that the function has a single parameter and the parameter name is correct\n",
    "params = list(inspect.signature(temp_classifier).parameters.keys())\n",
    "\n",
    "if ok_(params[0]=='temp_celsius') and ok_(len(params)==1):\n",
    "    print('The function\\'s parameter name is incorrect and the function has not a single parameter')\n",
    "else:\n",
    "     print('The function\\'s parameter name is correct and the function has a single parameter')\n",
    "\n",
    "\n",
    "# 1. What is the class value for 16.5 degrees (Celsius)?\n",
    "print('16.5 degrees (Celsius) is in class {0:.1f}'.format(temp_classifier(16.5)))\n",
    "\n",
    "# 2. What is the class value for +2 degrees (Celsius)?\n",
    "print('+2 degrees (Celsius) is in class {0:.1f}'.format(temp_classifier(2)))\n",
    "\n",
    "\n",
    "\n",
    "\n",
    "        \n",
    "\n"
   ]
  },
  {
   "cell_type": "code",
   "execution_count": null,
   "metadata": {},
   "outputs": [],
   "source": []
  }
 ],
 "metadata": {
  "kernelspec": {
   "display_name": "Python 3 (ipykernel)",
   "language": "python",
   "name": "python3"
  },
  "language_info": {
   "codemirror_mode": {
    "name": "ipython",
    "version": 3
   },
   "file_extension": ".py",
   "mimetype": "text/x-python",
   "name": "python",
   "nbconvert_exporter": "python",
   "pygments_lexer": "ipython3",
   "version": "3.9.5"
  }
 },
 "nbformat": 4,
 "nbformat_minor": 4
}
