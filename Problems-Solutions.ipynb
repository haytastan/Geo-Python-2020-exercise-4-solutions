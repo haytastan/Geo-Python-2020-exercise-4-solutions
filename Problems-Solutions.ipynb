{
 "cells": [
  {
   "cell_type": "code",
   "execution_count": 27,
   "metadata": {},
   "outputs": [
    {
     "name": "stdout",
     "output_type": "stream",
     "text": [
      "The function's arameter name is correct and the function has a single parameter\n",
      "48 degrees Fahrenheit in Celsius is 8.89\n",
      "71 degrees Fahrenheit in Celsius is 21.67\n"
     ]
    }
   ],
   "source": [
    "run Exercise-4-solution-1.py"
   ]
  },
  {
   "cell_type": "code",
   "execution_count": 28,
   "metadata": {},
   "outputs": [
    {
     "name": "stdout",
     "output_type": "stream",
     "text": [
      "The function's parameter name is correct and the function has a single parameter\n",
      "16.5 degrees (Celsius) is in class 3.0\n",
      "+2 degrees (Celsius) is in class 2.0\n"
     ]
    }
   ],
   "source": [
    "run Exercise-4-solution-2.py"
   ]
  },
  {
   "cell_type": "code",
   "execution_count": 29,
   "metadata": {},
   "outputs": [
    {
     "name": "stdout",
     "output_type": "stream",
     "text": [
      "temp_classes -list contains  137 0 values\n",
      "temp_classes -list contains  85 1 values\n",
      "temp_classes -list contains  114 2 values\n",
      "temp_classes -list contains  0 3 values\n",
      "The functions have a single parameter\n",
      "The functions are in the namespace\n",
      "The variables have been been created\n",
      "The variables have been been created\n",
      "the variable \"zeros\" exists and is correct\n",
      "the variable \"ones\" exists and is correct\n",
      "the variable \"twos\" exists and is correct\n",
      "the variable \"threes\" exists and is correct\n"
     ]
    }
   ],
   "source": [
    "run Exercise-4-solution-3.py"
   ]
  },
  {
   "cell_type": "code",
   "execution_count": null,
   "metadata": {},
   "outputs": [],
   "source": []
  }
 ],
 "metadata": {
  "kernelspec": {
   "display_name": "Python 3 (ipykernel)",
   "language": "python",
   "name": "python3"
  },
  "language_info": {
   "codemirror_mode": {
    "name": "ipython",
    "version": 3
   },
   "file_extension": ".py",
   "mimetype": "text/x-python",
   "name": "python",
   "nbconvert_exporter": "python",
   "pygments_lexer": "ipython3",
   "version": "3.9.5"
  }
 },
 "nbformat": 4,
 "nbformat_minor": 4
}
